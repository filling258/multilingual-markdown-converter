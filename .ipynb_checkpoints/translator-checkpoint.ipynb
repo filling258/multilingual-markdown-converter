{
 "cells": [
  {
   "cell_type": "code",
   "execution_count": 1,
   "id": "44dbb258-e065-4a27-9296-d9e346